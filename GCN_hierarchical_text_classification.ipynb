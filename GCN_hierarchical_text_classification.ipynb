{
 "cells": [
  {
   "cell_type": "markdown",
   "metadata": {
    "id": "COtO3GIrgy1S"
   },
   "source": [
    "TEAM 17\n",
    "SRN: PES1UG20CS403 G\n",
    "     PES1UG20CS406 G\n",
    "     PES1UG20CS427 G\n",
    "     PES1UG20CS697 L"
   ]
  },
  {
   "cell_type": "markdown",
   "metadata": {
    "id": "EA9zHYsihUpn"
   },
   "source": []
  },
  {
   "cell_type": "code",
   "execution_count": null,
   "metadata": {
    "id": "ENlUnnmUI4Lx"
   },
   "outputs": [],
   "source": [
    "! pip install -q kaggle\n",
    "!pip install torch_geometric\n",
    "!pip install node2vec"
   ]
  },
  {
   "cell_type": "code",
   "execution_count": null,
   "metadata": {
    "colab": {
     "base_uri": "https://localhost:8080/",
     "height": 91
    },
    "id": "WMIykeGxJjA8",
    "outputId": "c206c58b-24bb-46a3-bc26-f19640017306"
   },
   "outputs": [],
   "source": [
    "# from google.colab import files\n",
    "\n",
    "# files.upload()"
   ]
  },
  {
   "cell_type": "code",
   "execution_count": null,
   "metadata": {
    "id": "OiIuifTHKfDf"
   },
   "outputs": [],
   "source": [
    "! mkdir ~/.kaggle"
   ]
  },
  {
   "cell_type": "code",
   "execution_count": null,
   "metadata": {
    "id": "HErmmiiwKoRA"
   },
   "outputs": [],
   "source": [
    "! cp kaggle.json ~/.kaggle/"
   ]
  },
  {
   "cell_type": "code",
   "execution_count": null,
   "metadata": {
    "id": "x76xfo3RKsUU"
   },
   "outputs": [],
   "source": [
    "! chmod 600 ~/.kaggle/kaggle.json"
   ]
  },
  {
   "cell_type": "code",
   "execution_count": null,
   "metadata": {
    "colab": {
     "base_uri": "https://localhost:8080/"
    },
    "id": "bJjcSL5nKuO2",
    "outputId": "ed07ff4a-e30a-44f1-9fc0-2b7befc2d63b"
   },
   "outputs": [],
   "source": [
    "! kaggle datasets list"
   ]
  },
  {
   "cell_type": "code",
   "execution_count": null,
   "metadata": {
    "colab": {
     "base_uri": "https://localhost:8080/"
    },
    "id": "Fr7j3BUvK0Nr",
    "outputId": "7b59f3f4-950d-4f5e-bcd8-3be961b73b5c"
   },
   "outputs": [],
   "source": [
    "!kaggle datasets download -d feyzazkefe/olid-dataset"
   ]
  },
  {
   "cell_type": "code",
   "execution_count": null,
   "metadata": {
    "colab": {
     "base_uri": "https://localhost:8080/"
    },
    "id": "_9hTDI8PK6kk",
    "outputId": "3f005a98-d366-4b4e-d0de-7e5c7da5e012"
   },
   "outputs": [],
   "source": [
    "! mkdir data\n",
    "! unzip /content/olid-dataset.zip -d data"
   ]
  },
  {
   "cell_type": "code",
   "execution_count": null,
   "metadata": {
    "id": "WJE61p_H8rzY"
   },
   "outputs": [],
   "source": [
    "import pandas as pd\n",
    "import networkx as nx\n",
    "import torch\n",
    "from torch_geometric.nn import GCNConv, Sequential\n",
    "from torch_geometric.data import Data, DataLoader\n",
    "from sklearn.metrics.pairwise import cosine_similarity\n",
    "from gensim.models import Word2Vec\n",
    "import numpy as np"
   ]
  },
  {
   "cell_type": "code",
   "execution_count": null,
   "metadata": {
    "id": "2HaE1D5X8egq"
   },
   "outputs": [],
   "source": [
    "train_data=pd.read_csv('/content/data/olid-training-v1.0.tsv', delimiter='\\t', encoding='utf-8')"
   ]
  },
  {
   "cell_type": "code",
   "execution_count": null,
   "metadata": {
    "colab": {
     "base_uri": "https://localhost:8080/",
     "height": 467
    },
    "id": "i28wU8Fg8voY",
    "outputId": "8e7e6655-30a4-4622-c71e-12ef6cf19aca"
   },
   "outputs": [],
   "source": [
    "train_data"
   ]
  },
  {
   "cell_type": "code",
   "execution_count": null,
   "metadata": {
    "colab": {
     "base_uri": "https://localhost:8080/",
     "height": 423
    },
    "id": "486QaUy4R0Fx",
    "outputId": "b6ca1235-3075-4b7a-e478-ca458bd717cd"
   },
   "outputs": [],
   "source": [
    "train_data[['id','tweet','subtask_a']]"
   ]
  },
  {
   "cell_type": "code",
   "execution_count": null,
   "metadata": {
    "id": "9Kpx3zVm9SJq"
   },
   "outputs": [],
   "source": []
  },
  {
   "cell_type": "code",
   "execution_count": null,
   "metadata": {
    "id": "zyNuHt9P9F1O"
   },
   "outputs": [],
   "source": [
    "# Construct the tweet node features and labels\n",
    "X = train_data['tweet'].tolist() # tweet text\n",
    "y_a = train_data['subtask_a'].tolist() # offensive/not offensive labels\n",
    "y_b = train_data['subtask_b'].tolist() # targeted/at others labels\n",
    "y_c = train_data['subtask_c'].tolist() # individual/group/other labels\n"
   ]
  },
  {
   "cell_type": "code",
   "execution_count": null,
   "metadata": {
    "colab": {
     "base_uri": "https://localhost:8080/"
    },
    "id": "JqDZCorvJTOg",
    "outputId": "060cbc99-ee1a-45ef-bfb3-e681ea848b0d"
   },
   "outputs": [],
   "source": [
    "X"
   ]
  },
  {
   "cell_type": "code",
   "execution_count": null,
   "metadata": {
    "id": "wsXEOyTHk-qf"
   },
   "outputs": [],
   "source": [
    "from sklearn.feature_extraction.text import TfidfVectorizer\n",
    "from sklearn.metrics.pairwise import cosine_similarity\n",
    "\n",
    "# # Calculate the TF-IDF matrix\n",
    "vectorizer = TfidfVectorizer()\n",
    "tfidf_matrix = vectorizer.fit_transform(X)\n",
    "\n",
    "# # Calculate the cosine similarity matrix\n",
    "# cosine_sim_matrix = cosine_similarity(tfidf_matrix)"
   ]
  },
  {
   "cell_type": "code",
   "execution_count": null,
   "metadata": {
    "id": "-8fgCWq9ITzB"
   },
   "outputs": [],
   "source": [
    "# Define the hierarchical label structure\n",
    "label_hierarchy = [\n",
    "    [0, 1], #offensive/not offensive\n",
    "    [2, 3], #directed/not directed\n",
    "    [4, 5, 6] #directed to individual/group/other\n",
    "]"
   ]
  },
  {
   "cell_type": "code",
   "execution_count": null,
   "metadata": {
    "colab": {
     "base_uri": "https://localhost:8080/"
    },
    "id": "0SiyKd7njObh",
    "outputId": "779001a5-9e4c-4a44-b645-8b246f651815"
   },
   "outputs": [],
   "source": [
    "# Set the threshold for cosine similarity\n",
    "cosine_sim_threshold = 0.7\n",
    "edge_lists = []\n",
    "node_lists = []\n",
    "i = 0\n",
    "level_labels = label_hierarchy[0]\n",
    "# Loop over each level of the hierarchy\n",
    "for i, level_labels in enumerate(label_hierarchy):\n",
    "\n",
    "    level_nodes = []\n",
    "    level_edges = []\n",
    "\n",
    "    if(i == 0):\n",
    "      col = 'subtask_a'\n",
    "      node_attrs = train_data[['id','tweet',col]].set_index('id').to_dict('index')\n",
    "      node_map = {}\n",
    "      count = 0\n",
    "      for key,value in node_attrs.items():\n",
    "        if(value['subtask_a']!='OFF' and value['subtask_a']!='NOT'):\n",
    "          print(\"nan\")\n",
    "        else:\n",
    "          node_map[count] = key\n",
    "          count += 1\n",
    "    elif(i==1):\n",
    "      col = 'subtask_b'\n",
    "      node_attrs = train_data[['id','tweet',col]].set_index('id').to_dict('index')\n",
    "      node_map = {}\n",
    "      count = 0\n",
    "      for key,value in node_attrs.items():\n",
    "        if(value['subtask_b']!='UNT' and value['subtask_b']!='TIN'):\n",
    "          print(\"nan\")\n",
    "        else:\n",
    "          node_map[count] = key\n",
    "          count += 1\n",
    "    else:\n",
    "      col = 'subtask_c'\n",
    "      node_attrs = train_data[['id','tweet',col]].set_index('id').to_dict('index')\n",
    "      node_map = {}\n",
    "      count = 0\n",
    "      for key,value in node_attrs.items():\n",
    "        if(value['subtask_c']!='IND' and value['subtask_c']!='GRP'and value['subtask_c']!='OTH'):\n",
    "          print(\"nan\")\n",
    "        else:\n",
    "          node_map[count] = key\n",
    "          count += 1\n",
    "\n",
    "    node_idx = list(node_map.keys())\n",
    "    #     # Calculate cosine similarity matrix for the nodes\n",
    "    node_embeddings = tfidf_matrix[node_idx].toarray()\n",
    "    similarity_matrix = cosine_similarity(node_embeddings)\n",
    "\n",
    "    # Add edges to subgraph based on cosine similarity\n",
    "    for u in range(len(node_idx)):\n",
    "      for v in range(u+1, len(node_idx)):\n",
    "          if similarity_matrix[node_idx[u], node_idx[v]] > cosine_sim_threshold:\n",
    "              level_edges.append((node_map[u], node_map[v]))\n",
    "\n",
    "    edge_lists.append(level_edges)\n",
    "    node_lists.append(node_attrs)"
   ]
  },
  {
   "cell_type": "code",
   "execution_count": null,
   "metadata": {
    "colab": {
     "base_uri": "https://localhost:8080/"
    },
    "id": "EHRnk7Y7GrKD",
    "outputId": "cf485518-4377-40f7-b0af-e5b0168decd8"
   },
   "outputs": [],
   "source": [
    "len(node_lists)"
   ]
  },
  {
   "cell_type": "code",
   "execution_count": null,
   "metadata": {
    "colab": {
     "base_uri": "https://localhost:8080/"
    },
    "id": "_NeggT3vFNdo",
    "outputId": "cf2730bc-e235-433d-a68c-3cbd884b0f16"
   },
   "outputs": [],
   "source": [
    "len(edge_lists)"
   ]
  },
  {
   "cell_type": "code",
   "execution_count": null,
   "metadata": {
    "id": "xgUKWyFCTuqh"
   },
   "outputs": [],
   "source": [
    "G1 = nx.Graph()\n",
    "for node_id, attrs in node_lists[0].items():\n",
    "    G1.add_node(node_id, **attrs)\n",
    "for source, target in edge_lists[0]:\n",
    "    G1.add_edge(source,target)"
   ]
  },
  {
   "cell_type": "code",
   "execution_count": null,
   "metadata": {
    "colab": {
     "base_uri": "https://localhost:8080/"
    },
    "id": "HNnzNnYgWGhB",
    "outputId": "ae002b1e-5cd4-4fe6-ac55-6c1a3e9c477c"
   },
   "outputs": [],
   "source": [
    "print(G1)"
   ]
  },
  {
   "cell_type": "code",
   "execution_count": null,
   "metadata": {
    "id": "rXQggJuCUk3O"
   },
   "outputs": [],
   "source": [
    "G2 = nx.Graph()\n",
    "for node_id, attrs in node_lists[1].items():\n",
    "    G2.add_node(node_id, **attrs)\n",
    "for source, target in edge_lists[1]:\n",
    "    G2.add_edge(source,target)"
   ]
  },
  {
   "cell_type": "code",
   "execution_count": null,
   "metadata": {
    "colab": {
     "base_uri": "https://localhost:8080/"
    },
    "id": "k8LtQ-D1HB8v",
    "outputId": "040d3507-fae7-4a12-a9ad-ee110f964ca3"
   },
   "outputs": [],
   "source": [
    "print(G2)"
   ]
  },
  {
   "cell_type": "code",
   "execution_count": null,
   "metadata": {
    "id": "wm0AsSO0VWkA"
   },
   "outputs": [],
   "source": [
    "G3 = nx.Graph()\n",
    "for node_id, attrs in node_lists[2].items():\n",
    "    G3.add_node(node_id, **attrs)\n",
    "for source, target in edge_lists[2]:\n",
    "    G3.add_edge(source,target)"
   ]
  },
  {
   "cell_type": "code",
   "execution_count": null,
   "metadata": {
    "colab": {
     "base_uri": "https://localhost:8080/"
    },
    "id": "-84EFdG-HDMt",
    "outputId": "36b5f247-8252-48d4-d19f-c338ce85b1b5"
   },
   "outputs": [],
   "source": [
    "print(G3)"
   ]
  },
  {
   "cell_type": "code",
   "execution_count": null,
   "metadata": {
    "colab": {
     "base_uri": "https://localhost:8080/",
     "height": 67,
     "referenced_widgets": [
      "f6ef58be40d14db6a38f088d8d21f57e",
      "9b2c86b7d93a4ebcbc92a49acde58482",
      "4521428aacc24a8fa60a752b7d8f73b1",
      "ec3966e97b404ff686cb56a1d321f3e2",
      "843aee887d8b454fa6e75dcfcf4ccc64",
      "4bdc95d8613c4c6aa9207095168339b9",
      "53581a2f566a461ebd2f6dd767929777",
      "750f956cb92544558d788df167dbac5e",
      "fa27c341beec4ad3a3966a4110328146",
      "cfae984e42344ec98959091499c4cb67",
      "9c589bc009b745dcb0e82364013675fd"
     ]
    },
    "id": "PK1lrNI5WBig",
    "outputId": "da608873-c214-43a2-82b2-1b21dadb374f"
   },
   "outputs": [],
   "source": [
    "from node2vec import Node2Vec\n",
    "import pickle\n",
    "node2vec = Node2Vec(G1, dimensions=32, walk_length=20, num_walks=100, p=1,q=2)\n",
    "model = node2vec.fit(window=10, min_count=1)\n",
    "# embeddings = {str(node_id): vec for node_id, vec in model.wv.vocab.items()}"
   ]
  },
  {
   "cell_type": "code",
   "execution_count": null,
   "metadata": {
    "colab": {
     "base_uri": "https://localhost:8080/",
     "height": 218
    },
    "id": "VJkD-v4YXWMj",
    "outputId": "b4a4aae1-203c-403f-ab36-a0352b1cd4dc"
   },
   "outputs": [],
   "source": [
    "embeddings = {str(node_id): model.wv.get_vector(str(node_id)) for node_id in G1.nodes()}\n",
    "with open('/content/data/embeddings1.pickle', 'wb') as f:\n",
    "    pickle.dump(embeddings, f)\n",
    "!zip -r data.zip /content/data\n",
    "from google.colab import files\n",
    "files.download(\"/content/data/embeddings1.pickle\")"
   ]
  },
  {
   "cell_type": "code",
   "execution_count": null,
   "metadata": {
    "colab": {
     "base_uri": "https://localhost:8080/",
     "height": 95,
     "referenced_widgets": [
      "06d61bb871f345bc8c572d1d9fe61915",
      "70eeeed309904816b13222b8b891533a",
      "8756818bd02e4e19a20cf5e9ab9dc747",
      "24894fd9ef6f44bda516b80ef2ba24e7",
      "729da009813e44078616aadc3b97767f",
      "ba3b662654534f7d8f551b756ea0c562",
      "9c7c0ac4232a4d96b5f2f829a829a4ed",
      "7a588829897a421cbf430061ceeb3608",
      "5421c1420564402ea7b0a048968f7080",
      "13a698be4a304d39926a59281b9a38d3",
      "eea3af09f0d44040851a057d6786e18d"
     ]
    },
    "id": "7b5MyWVyHx1C",
    "outputId": "cba08dea-d6a8-44b1-c86a-3d64d6766b94"
   },
   "outputs": [],
   "source": [
    "node2vec = Node2Vec(G2, dimensions=32, walk_length=20, num_walks=100, p=1,q=2)\n",
    "model = node2vec.fit(window=10, min_count=1)"
   ]
  },
  {
   "cell_type": "code",
   "execution_count": null,
   "metadata": {
    "colab": {
     "base_uri": "https://localhost:8080/",
     "height": 236
    },
    "id": "AfyKlpsVH41R",
    "outputId": "1e8faf05-afc2-4cf4-d2d2-190dbd5c5585"
   },
   "outputs": [],
   "source": [
    "embeddings = {str(node_id): model.wv.get_vector(str(node_id)) for node_id in G2.nodes()}\n",
    "with open('/content/data/embeddings2.pickle', 'wb') as f:\n",
    "    pickle.dump(embeddings, f)\n",
    "!zip -r data.zip /content/data\n",
    "from google.colab import files\n",
    "files.download(\"/content/data/embeddings2.pickle\")"
   ]
  },
  {
   "cell_type": "code",
   "execution_count": null,
   "metadata": {
    "colab": {
     "base_uri": "https://localhost:8080/",
     "height": 95,
     "referenced_widgets": [
      "6b4b1ae5d1444a8ba5278c2c36ef5996",
      "3a949e20a8094db387133fa403fa03f3",
      "a5ee598a52804084b02a1d093b63fb42",
      "cbab1cdc07d342c489272df2d288c3c9",
      "4e77f86b9c1b40d48ca6c0dcafcc8a44",
      "d27b6fef30c04f31a72e792dd909d00d",
      "a24d015d826748d99bc7e0598b99fa6c",
      "d64330b2531944a0aa13d5af891fd0d7",
      "f634db8705864a099094c8e5aa131820",
      "9db1ccbd23db40c4b4737aab5485f640",
      "6ae0e05094c74fa4ac1eb4af223e6418"
     ]
    },
    "id": "xSP8ik15H7Vs",
    "outputId": "b426569e-11c2-4e0e-d6c0-e6cc69dcb3de"
   },
   "outputs": [],
   "source": [
    "node2vec = Node2Vec(G3, dimensions=32, walk_length=20, num_walks=100, p=1,q=2)\n",
    "model = node2vec.fit(window=10, min_count=1)"
   ]
  },
  {
   "cell_type": "code",
   "execution_count": null,
   "metadata": {
    "colab": {
     "base_uri": "https://localhost:8080/",
     "height": 254
    },
    "id": "RtOh3s8hH9gu",
    "outputId": "831ff5b3-6bd6-4a0e-ff7f-9854e680be83"
   },
   "outputs": [],
   "source": [
    "embeddings = {str(node_id): model.wv.get_vector(str(node_id)) for node_id in G3.nodes()}\n",
    "with open('/content/data/embeddings3.pickle', 'wb') as f:\n",
    "    pickle.dump(embeddings, f)\n",
    "!zip -r data.zip /content/data\n",
    "from google.colab import files\n",
    "files.download(\"/content/data/embeddings3.pickle\")"
   ]
  },
  {
   "cell_type": "code",
   "execution_count": null,
   "metadata": {
    "id": "Va8yB8lrp9D1"
   },
   "outputs": [],
   "source": [
    "with open('/content/data/embeddings1.pickle', 'rb') as f:\n",
    "    embeddings = pickle.load(f)"
   ]
  },
  {
   "cell_type": "code",
   "execution_count": null,
   "metadata": {
    "id": "85IEnd_TnhG3"
   },
   "outputs": [],
   "source": [
    "with open('/content/data/embeddings2.pickle', 'rb') as f:\n",
    "    embeddings2 = pickle.load(f)"
   ]
  },
  {
   "cell_type": "code",
   "execution_count": null,
   "metadata": {
    "id": "-8YOKn-FnuWd"
   },
   "outputs": [],
   "source": [
    "with open('/content/data/embeddings3.pickle', 'rb') as f:\n",
    "    embeddings3 = pickle.load(f)"
   ]
  },
  {
   "cell_type": "code",
   "execution_count": null,
   "metadata": {
    "id": "16YtCo8fdWsL"
   },
   "outputs": [],
   "source": [
    "import torch_geometric\n",
    "from torch_geometric.utils import from_networkx\n",
    "# convert networkx graph to Pytorch geometric graph\n",
    "data = from_networkx(G1)"
   ]
  },
  {
   "cell_type": "code",
   "execution_count": null,
   "metadata": {
    "id": "yAiX4N6VnkJF"
   },
   "outputs": [],
   "source": [
    "import torch_geometric\n",
    "from torch_geometric.utils import from_networkx\n",
    "# convert networkx graph to Pytorch geometric graph\n",
    "data2 = from_networkx(G2)"
   ]
  },
  {
   "cell_type": "code",
   "execution_count": null,
   "metadata": {
    "id": "3yieVn6enxm-"
   },
   "outputs": [],
   "source": [
    "import torch_geometric\n",
    "from torch_geometric.utils import from_networkx\n",
    "# convert networkx graph to Pytorch geometric graph\n",
    "data3 = from_networkx(G3)"
   ]
  },
  {
   "cell_type": "code",
   "execution_count": null,
   "metadata": {
    "colab": {
     "base_uri": "https://localhost:8080/"
    },
    "id": "xmNi8nlOKMwS",
    "outputId": "8ce4b29a-592f-4b93-f7a5-ce6c478fe174"
   },
   "outputs": [],
   "source": [
    "data"
   ]
  },
  {
   "cell_type": "code",
   "execution_count": null,
   "metadata": {
    "colab": {
     "base_uri": "https://localhost:8080/"
    },
    "id": "u3l-94KBnofd",
    "outputId": "c92985a6-a4ed-4ccc-9b2c-e0f38f8412aa"
   },
   "outputs": [],
   "source": [
    "data2"
   ]
  },
  {
   "cell_type": "code",
   "execution_count": null,
   "metadata": {
    "colab": {
     "base_uri": "https://localhost:8080/"
    },
    "id": "_maKOZTpn1w6",
    "outputId": "358c18b6-b094-4de0-b83d-ff0ac66424bb"
   },
   "outputs": [],
   "source": [
    "data3"
   ]
  },
  {
   "cell_type": "code",
   "execution_count": null,
   "metadata": {
    "id": "q0FbzfbhM4aq"
   },
   "outputs": [],
   "source": [
    "node2vec_embeddings = torch.tensor([embeddings[str(node_id)] for node_id in list(G1.nodes)], dtype=torch.float)\n",
    "node2vec_embeddings2 = torch.tensor([embeddings[str(node_id)] for node_id in list(G2.nodes)], dtype=torch.float)\n",
    "node2vec_embeddings3 = torch.tensor([embeddings[str(node_id)] for node_id in list(G3.nodes)], dtype=torch.float)"
   ]
  },
  {
   "cell_type": "code",
   "execution_count": null,
   "metadata": {
    "colab": {
     "base_uri": "https://localhost:8080/"
    },
    "id": "zvH5_08wM9gh",
    "outputId": "bd1ae6e6-b4c9-4b79-e9f8-8bfbbf110a29"
   },
   "outputs": [],
   "source": [
    "node2vec_embeddings"
   ]
  },
  {
   "cell_type": "code",
   "execution_count": null,
   "metadata": {
    "id": "7W3F_9t8Jg71"
   },
   "outputs": [],
   "source": [
    "data.x = node2vec_embeddings\n",
    "data2.x = node2vec_embeddings2\n",
    "data3.x = node2vec_embeddings3"
   ]
  },
  {
   "cell_type": "code",
   "execution_count": null,
   "metadata": {
    "id": "pmL2n9aFoIn3"
   },
   "outputs": [],
   "source": []
  },
  {
   "cell_type": "code",
   "execution_count": null,
   "metadata": {
    "colab": {
     "base_uri": "https://localhost:8080/"
    },
    "id": "ot3YgihjNL9A",
    "outputId": "4c7a345e-52fa-412c-d941-2991fcb20291"
   },
   "outputs": [],
   "source": [
    "data.x.shape"
   ]
  },
  {
   "cell_type": "code",
   "execution_count": null,
   "metadata": {
    "colab": {
     "base_uri": "https://localhost:8080/"
    },
    "id": "1hKCku8EK1g4",
    "outputId": "84b336a1-0d15-40b0-aa59-2fd215e2e96a"
   },
   "outputs": [],
   "source": [
    "#CONVERTING BRANCHES TO INTEGER ENCODINGS\n",
    "from sklearn.preprocessing import LabelEncoder\n",
    "\n",
    "# Example list of classes\n",
    "class_list = data.subtask_a\n",
    "class_list2 = data2.subtask_b\n",
    "class_list3 = data3.subtask_c\n",
    "\n",
    "# Initialize label encoder and fit to classes\n",
    "label_encoder = LabelEncoder()\n",
    "label_encoder.fit(class_list)\n",
    "label_encoder2 = LabelEncoder()\n",
    "label_encoder2.fit(class_list2)\n",
    "label_encoder3 = LabelEncoder()\n",
    "label_encoder3.fit(class_list3)\n",
    "\n",
    "# Transform classes to numbered classes\n",
    "class_nums = label_encoder.transform(class_list)\n",
    "class_nums2 = label_encoder2.transform(class_list2)\n",
    "class_nums3 = label_encoder3.transform(class_list3)\n",
    "\n",
    "print(len(class_nums))  # Output: [0 1 2 0 2]"
   ]
  },
  {
   "cell_type": "code",
   "execution_count": null,
   "metadata": {
    "id": "jre9Ly43oTeN"
   },
   "outputs": [],
   "source": []
  },
  {
   "cell_type": "code",
   "execution_count": null,
   "metadata": {
    "colab": {
     "base_uri": "https://localhost:8080/"
    },
    "id": "n0jU2VGNLDYV",
    "outputId": "0a1c520c-7c97-414e-837d-039412afda6e"
   },
   "outputs": [],
   "source": [
    "class_nums"
   ]
  },
  {
   "cell_type": "code",
   "execution_count": null,
   "metadata": {
    "id": "xzkwQF8ZLGGs"
   },
   "outputs": [],
   "source": [
    "#GETTING DATA LABELS Y AS THE CLASS LABELS\n",
    "data.y = torch.tensor(class_nums)\n",
    "data2.y = torch.tensor(class_nums2)\n",
    "data3.y = torch.tensor(class_nums3)"
   ]
  },
  {
   "cell_type": "code",
   "execution_count": null,
   "metadata": {
    "colab": {
     "base_uri": "https://localhost:8080/"
    },
    "id": "-2xyoqzPLeiI",
    "outputId": "8317d4fb-4431-4a90-90da-b479414c7d45"
   },
   "outputs": [],
   "source": [
    "print(set(data.subtask_a))\n",
    "print(set(data2.subtask_b))\n",
    "print(set(data3.subtask_c))"
   ]
  },
  {
   "cell_type": "code",
   "execution_count": null,
   "metadata": {
    "colab": {
     "base_uri": "https://localhost:8080/"
    },
    "id": "Wib-RUTWMg87",
    "outputId": "fdcf4cbe-168a-48ed-dd8d-2ec4f42c097f"
   },
   "outputs": [],
   "source": [
    "data.x"
   ]
  },
  {
   "cell_type": "code",
   "execution_count": null,
   "metadata": {
    "id": "6VoCLc84bhCg"
   },
   "outputs": [],
   "source": [
    "class GCN(torch.nn.Module):\n",
    "    def __init__(self,level):\n",
    "        super().__init__()\n",
    "        torch.manual_seed(1234)\n",
    "        # self.conv1 = GCNConv(data.x.shape[1], 16)  # total number of feature columns\n",
    "        self.conv2 = GCNConv(16, 8)\n",
    "        self.conv3 = GCNConv(8, 4)\n",
    "        self.conv4 = GCNConv(4, 2)\n",
    "        if(level == 0):\n",
    "          self.conv1 = GCNConv(data.x.shape[1], 16)  # total number of feature columns\n",
    "          self.classifier = Linear(2, len(set(data.subtask_a)))  # total number of classification branches\n",
    "        elif(level == 1):\n",
    "          self.conv1 = GCNConv(data2.x.shape[1], 16)  # total number of feature columns\n",
    "          self.classifier = Linear(2, len(set(data2.subtask_b)))  # total number of classification branches\n",
    "        elif(level == 2):\n",
    "          self.conv1 = GCNConv(data3.x.shape[1], 16)  # total number of feature columns\n",
    "          self.classifier = Linear(2, len(set(data3.subtask_c)))  # total number of classification branches\n",
    "    def forward(self, x, edge_index):\n",
    "        h = self.conv1(x, edge_index)\n",
    "        h = h.tanh()\n",
    "        h = self.conv2(h, edge_index)\n",
    "        h = h.tanh()\n",
    "        h = self.conv3(h, edge_index)\n",
    "        h = h.tanh()\n",
    "        h = self.conv4(h, edge_index)\n",
    "        h = h.tanh()  # Final GNN embedding space.\n",
    "\n",
    "        # Apply a final (linear) classifier.\n",
    "        out = self.classifier(h)\n",
    "        # out = out[data.test_mask]\n",
    "\n",
    "        return out, h\n"
   ]
  },
  {
   "cell_type": "code",
   "execution_count": null,
   "metadata": {
    "id": "12TKzYFZQCBB"
   },
   "outputs": [],
   "source": [
    "import matplotlib.pyplot as plt"
   ]
  },
  {
   "cell_type": "code",
   "execution_count": null,
   "metadata": {
    "id": "K7QsWN_5PqKJ"
   },
   "outputs": [],
   "source": [
    "def visualize_graph(G, color):\n",
    "    plt.figure(figsize=(7,7))\n",
    "    plt.xticks([])\n",
    "    plt.yticks([])\n",
    "    nx.draw_networkx(G, pos=nx.spring_layout(G, seed=42), with_labels=False,\n",
    "                     node_color=color, cmap=\"Set2\")\n",
    "    plt.show()\n",
    "\n",
    "\n",
    "def visualize_embedding(h, color, epoch=None, loss=None):\n",
    "    plt.figure(figsize=(7,7))\n",
    "    plt.xticks([])\n",
    "    plt.yticks([])\n",
    "    h = h.detach().cpu().numpy()\n",
    "    plt.scatter(h[:, 0], h[:, 1], s=140, c=color, cmap=\"Set2\")\n",
    "    if epoch is not None and loss is not None:\n",
    "        plt.xlabel(f'Epoch: {epoch}, Loss: {loss.item():.4f}', fontsize=16)\n",
    "    plt.show()"
   ]
  },
  {
   "cell_type": "code",
   "execution_count": null,
   "metadata": {
    "colab": {
     "base_uri": "https://localhost:8080/",
     "height": 594
    },
    "id": "eLUwjcVZL3B8",
    "outputId": "0f875ef2-df0e-45db-a20d-54dfe62d34af"
   },
   "outputs": [],
   "source": [
    "#TESTING MODEL\n",
    "model = GCN(0)\n",
    "\n",
    "_, h = model(data.x, data.edge_index)\n",
    "print(f'Embedding shape: {list(h.shape)}')\n",
    "\n",
    "visualize_embedding(h, color=class_nums)"
   ]
  },
  {
   "cell_type": "code",
   "execution_count": null,
   "metadata": {
    "colab": {
     "base_uri": "https://localhost:8080/",
     "height": 594
    },
    "id": "fDa4YYtFqJm6",
    "outputId": "6df5c784-2abd-401e-c9d4-faf060e2463b"
   },
   "outputs": [],
   "source": [
    "#TESTING MODEL\n",
    "model = GCN(1)\n",
    "\n",
    "_, h = model(data2.x, data2.edge_index)\n",
    "print(f'Embedding shape: {list(h.shape)}')\n",
    "\n",
    "visualize_embedding(h, color=class_nums2)"
   ]
  },
  {
   "cell_type": "code",
   "execution_count": null,
   "metadata": {
    "colab": {
     "base_uri": "https://localhost:8080/",
     "height": 594
    },
    "id": "-5-Vop7dq5Si",
    "outputId": "1fde1947-3a67-4e93-88fc-2588a67a06ed"
   },
   "outputs": [],
   "source": [
    "#TESTING MODEL\n",
    "model = GCN(2)\n",
    "\n",
    "_, h = model(data3.x, data3.edge_index)\n",
    "print(f'Embedding shape: {list(h.shape)}')\n",
    "\n",
    "visualize_embedding(h, color=class_nums3)"
   ]
  },
  {
   "cell_type": "code",
   "execution_count": null,
   "metadata": {
    "id": "OHI_7DG2jBGA"
   },
   "outputs": [],
   "source": [
    "from torch.nn import Linear\n",
    "from torch_geometric.nn import GCNConv\n",
    "from torch_geometric.data import DataLoader\n",
    "from sklearn.metrics import accuracy_score\n",
    "\n",
    "\n",
    "# Define train and test masks\n",
    "train_mask = torch.zeros(data.num_nodes, dtype=torch.bool)\n",
    "train_mask[:int(0.8*data.num_nodes)] = 1\n",
    "test_mask = torch.zeros(data.num_nodes, dtype=torch.bool)\n",
    "test_mask[int(0.8*data.num_nodes):] = 1\n"
   ]
  },
  {
   "cell_type": "code",
   "execution_count": null,
   "metadata": {
    "colab": {
     "base_uri": "https://localhost:8080/",
     "height": 430
    },
    "id": "UjESuLcAjQ1k",
    "outputId": "d5970ebe-9938-4fb6-940c-7ee18b4bc3f3"
   },
   "outputs": [],
   "source": [
    "import time\n",
    "from IPython.display import Javascript  # Restrict height of output cell.\n",
    "display(Javascript('''google.colab.output.setIframeHeight(0, true, {maxHeight: 430})'''))\n",
    "\n",
    "model = GCN(0)\n",
    "criterion = torch.nn.CrossEntropyLoss()  # Define loss criterion.\n",
    "optimizer = torch.optim.Adam(model.parameters(), lr=0.02)  # Define optimizer with higher learning rate.\n",
    "\n",
    "def train(data):\n",
    "    model.train()\n",
    "    optimizer.zero_grad()  # Clear gradients.\n",
    "    out, h = model(data.x, data.edge_index)  # Perform a single forward pass.\n",
    "    loss = criterion(out[train_mask], data.y[train_mask])  # Compute the loss solely based on the training nodes.\n",
    "    loss.backward()  # Derive gradients.\n",
    "    optimizer.step()  # Update parameters based on gradients.\n",
    "    return loss, h\n",
    "\n",
    "def test(data):\n",
    "    model.eval()\n",
    "    out, h = model(data.x, data.edge_index)\n",
    "    y_pred = out.argmax(dim=-1)\n",
    "    y_true = data.y[test_mask]\n",
    "    acc = accuracy_score(y_true.cpu().numpy(), y_pred[test_mask].cpu().numpy())\n",
    "    return acc\n",
    "\n",
    "for epoch in range(1000):\n",
    "    loss, h = train(data)\n",
    "    if epoch % 10 == 0:\n",
    "        visualize_embedding(h, color=data.y, epoch=epoch, loss=loss)\n",
    "        time.sleep(0.3)\n",
    "\n",
    "acc = test(data)\n",
    "print(f'Test Accuracy: {acc}')"
   ]
  },
  {
   "cell_type": "code",
   "execution_count": null,
   "metadata": {
    "colab": {
     "base_uri": "https://localhost:8080/",
     "height": 1000
    },
    "id": "xUuDlsphnM91",
    "outputId": "cee28384-7761-4649-8eb9-f2286f2bb572"
   },
   "outputs": [],
   "source": [
    "model = GCN(1)\n",
    "criterion = torch.nn.CrossEntropyLoss()  # Define loss criterion.\n",
    "optimizer = torch.optim.Adam(model.parameters(), lr=0.02)  # Define optimizer with higher learning rate.\n",
    "for epoch in range(1000):\n",
    "    loss, h = train(data2)\n",
    "    if epoch % 10 == 0:\n",
    "        visualize_embedding(h, color=data2.y, epoch=epoch, loss=loss)\n",
    "        time.sleep(0.3)\n",
    "\n",
    "acc = test(data2)\n",
    "print(f'Test Accuracy: {acc}')"
   ]
  },
  {
   "cell_type": "code",
   "execution_count": null,
   "metadata": {
    "colab": {
     "base_uri": "https://localhost:8080/",
     "height": 1000
    },
    "id": "1kTloLPBwLcV",
    "outputId": "2e06f0f6-232b-4a99-d75d-01dbe69a8dab"
   },
   "outputs": [],
   "source": [
    "model = GCN(2)\n",
    "criterion = torch.nn.CrossEntropyLoss()  # Define loss criterion.\n",
    "optimizer = torch.optim.Adam(model.parameters(), lr=0.02)  # Define optimizer with higher learning rate.\n",
    "for epoch in range(1000):\n",
    "    loss, h = train(data3)\n",
    "    if epoch % 10 == 0:\n",
    "        visualize_embedding(h, color=data3.y, epoch=epoch, loss=loss)\n",
    "        time.sleep(0.3)\n",
    "\n",
    "acc = test(data3)\n",
    "print(f'Test Accuracy: {acc}')"
   ]
  }
 ],
 "metadata": {
  "accelerator": "GPU",
  "colab": {
   "provenance": []
  },
  "gpuClass": "standard",
  "kernelspec": {
   "display_name": "Python 3",
   "name": "python3"
  },
  "language_info": {
   "name": "python"
  }
 },
 "nbformat": 4,
 "nbformat_minor": 0
}
